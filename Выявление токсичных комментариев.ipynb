{
 "cells": [
  {
   "cell_type": "markdown",
   "metadata": {
    "toc": true
   },
   "source": [
    "<h1>Содержание<span class=\"tocSkip\"></span></h1>\n",
    "<div class=\"toc\"><ul class=\"toc-item\"><li><span><a href=\"#Подготовка\" data-toc-modified-id=\"Подготовка-1\"><span class=\"toc-item-num\">1&nbsp;&nbsp;</span>Подготовка</a></span></li><li><span><a href=\"#Обучение\" data-toc-modified-id=\"Обучение-2\"><span class=\"toc-item-num\">2&nbsp;&nbsp;</span>Обучение</a></span></li><li><span><a href=\"#Выводы\" data-toc-modified-id=\"Выводы-3\"><span class=\"toc-item-num\">3&nbsp;&nbsp;</span>Выводы</a></span></li><li><span><a href=\"#Чек-лист-проверки\" data-toc-modified-id=\"Чек-лист-проверки-4\"><span class=\"toc-item-num\">4&nbsp;&nbsp;</span>Чек-лист проверки</a></span></li></ul></div>"
   ]
  },
  {
   "cell_type": "markdown",
   "metadata": {},
   "source": [
    "# Проект для «Викишоп»"
   ]
  },
  {
   "cell_type": "markdown",
   "metadata": {},
   "source": [
    "Интернет-магазин «Викишоп» запускает новый сервис. Теперь пользователи могут редактировать и дополнять описания товаров, как в вики-сообществах. То есть клиенты предлагают свои правки и комментируют изменения других. Магазину нужен инструмент, который будет искать токсичные комментарии и отправлять их на модерацию. \n",
    "\n",
    "Обучите модель классифицировать комментарии на позитивные и негативные. В вашем распоряжении набор данных с разметкой о токсичности правок.\n",
    "\n",
    "Постройте модель со значением метрики качества *F1* не меньше 0.75. \n",
    "\n",
    "**Инструкция по выполнению проекта**\n",
    "\n",
    "1. Загрузите и подготовьте данные.\n",
    "2. Обучите разные модели. \n",
    "3. Сделайте выводы.\n",
    "\n",
    "Для выполнения проекта применять *BERT* необязательно, но вы можете попробовать.\n",
    "\n",
    "**Описание данных**\n",
    "\n",
    "Данные находятся в файле `toxic_comments.csv`. Столбец *text* в нём содержит текст комментария, а *toxic* — целевой признак."
   ]
  },
  {
   "cell_type": "markdown",
   "metadata": {},
   "source": [
    "## Подготовка"
   ]
  },
  {
   "cell_type": "code",
   "execution_count": 1,
   "metadata": {},
   "outputs": [],
   "source": [
    "import pandas as pd\n",
    "import nltk\n",
    "from nltk.corpus import stopwords, wordnet\n",
    "from nltk.tokenize import word_tokenize\n",
    "from nltk.stem import WordNetLemmatizer\n",
    "from tqdm import tqdm\n",
    "import string\n",
    "import re\n",
    "from sklearn.model_selection import train_test_split\n",
    "from sklearn.feature_extraction.text import TfidfVectorizer\n",
    "from sklearn.linear_model import LogisticRegression\n",
    "from sklearn.pipeline import Pipeline\n",
    "from sklearn.model_selection import GridSearchCV\n",
    "from sklearn.model_selection import RandomizedSearchCV\n",
    "from sklearn.ensemble import RandomForestClassifier\n",
    "from sklearn.ensemble import GradientBoostingClassifier\n",
    "from sklearn.model_selection import GridSearchCV\n",
    "from sklearn.metrics import accuracy_score\n",
    "from sklearn.model_selection import train_test_split\n",
    "import numpy as np\n",
    "from sklearn.metrics import f1_score\n",
    "import lightgbm as lgb\n",
    "from sklearn.feature_extraction.text import TfidfVectorizer\n",
    "from sklearn.pipeline import Pipeline\n",
    "from sklearn.metrics import f1_score\n",
    "from sklearn.ensemble import GradientBoostingClassifier\n",
    "from sklearn.model_selection import GridSearchCV\n",
    "from sklearn.metrics import accuracy_score\n",
    "from sklearn.model_selection import train_test_split\n",
    "import numpy as np\n",
    "from tqdm.notebook import tqdm\n",
    "import spacy\n"
   ]
  },
  {
   "cell_type": "code",
   "execution_count": 2,
   "metadata": {},
   "outputs": [
    {
     "data": {
      "text/html": [
       "<div>\n",
       "<style scoped>\n",
       "    .dataframe tbody tr th:only-of-type {\n",
       "        vertical-align: middle;\n",
       "    }\n",
       "\n",
       "    .dataframe tbody tr th {\n",
       "        vertical-align: top;\n",
       "    }\n",
       "\n",
       "    .dataframe thead th {\n",
       "        text-align: right;\n",
       "    }\n",
       "</style>\n",
       "<table border=\"1\" class=\"dataframe\">\n",
       "  <thead>\n",
       "    <tr style=\"text-align: right;\">\n",
       "      <th></th>\n",
       "      <th>Unnamed: 0</th>\n",
       "      <th>text</th>\n",
       "      <th>toxic</th>\n",
       "    </tr>\n",
       "  </thead>\n",
       "  <tbody>\n",
       "    <tr>\n",
       "      <th>0</th>\n",
       "      <td>0</td>\n",
       "      <td>Explanation\\nWhy the edits made under my usern...</td>\n",
       "      <td>0</td>\n",
       "    </tr>\n",
       "    <tr>\n",
       "      <th>1</th>\n",
       "      <td>1</td>\n",
       "      <td>D'aww! He matches this background colour I'm s...</td>\n",
       "      <td>0</td>\n",
       "    </tr>\n",
       "    <tr>\n",
       "      <th>2</th>\n",
       "      <td>2</td>\n",
       "      <td>Hey man, I'm really not trying to edit war. It...</td>\n",
       "      <td>0</td>\n",
       "    </tr>\n",
       "    <tr>\n",
       "      <th>3</th>\n",
       "      <td>3</td>\n",
       "      <td>\"\\nMore\\nI can't make any real suggestions on ...</td>\n",
       "      <td>0</td>\n",
       "    </tr>\n",
       "    <tr>\n",
       "      <th>4</th>\n",
       "      <td>4</td>\n",
       "      <td>You, sir, are my hero. Any chance you remember...</td>\n",
       "      <td>0</td>\n",
       "    </tr>\n",
       "  </tbody>\n",
       "</table>\n",
       "</div>"
      ],
      "text/plain": [
       "   Unnamed: 0                                               text  toxic\n",
       "0           0  Explanation\\nWhy the edits made under my usern...      0\n",
       "1           1  D'aww! He matches this background colour I'm s...      0\n",
       "2           2  Hey man, I'm really not trying to edit war. It...      0\n",
       "3           3  \"\\nMore\\nI can't make any real suggestions on ...      0\n",
       "4           4  You, sir, are my hero. Any chance you remember...      0"
      ]
     },
     "execution_count": 2,
     "metadata": {},
     "output_type": "execute_result"
    }
   ],
   "source": [
    "df = pd.read_csv('https://code.s3.yandex.net/datasets/toxic_comments.csv')\n",
    "df.head()\n"
   ]
  },
  {
   "cell_type": "code",
   "execution_count": 3,
   "metadata": {},
   "outputs": [
    {
     "name": "stderr",
     "output_type": "stream",
     "text": [
      "[nltk_data] Downloading package punkt to /home/jovyan/nltk_data...\n",
      "[nltk_data]   Package punkt is already up-to-date!\n",
      "[nltk_data] Downloading package wordnet to /home/jovyan/nltk_data...\n",
      "[nltk_data]   Package wordnet is already up-to-date!\n",
      "[nltk_data] Downloading package stopwords to /home/jovyan/nltk_data...\n",
      "[nltk_data]   Package stopwords is already up-to-date!\n"
     ]
    }
   ],
   "source": [
    "\n",
    "nltk.download('punkt')\n",
    "nltk.download('wordnet')\n",
    "nltk.download('stopwords')\n",
    "nlp = spacy.load('en_core_web_sm')\n"
   ]
  },
  {
   "cell_type": "code",
   "execution_count": 4,
   "metadata": {},
   "outputs": [],
   "source": [
    "nlp = spacy.load('en_core_web_sm')\n",
    "\n",
    "def preprocess_text(text):\n",
    "    # Lowercase the text\n",
    "    text = text.lower()\n",
    "\n",
    "    # Remove punctuation and numbers\n",
    "    text = re.sub(r'[^a-z\\s]', '', text)\n",
    "\n",
    "    # Tokenize using spaCy\n",
    "    doc = nlp(text)\n",
    "    words = [token.lemma_ for token in doc if not token.is_stop]\n",
    "\n",
    "    return ' '.join(words)\n"
   ]
  },
  {
   "cell_type": "code",
   "execution_count": 5,
   "metadata": {},
   "outputs": [
    {
     "data": {
      "text/plain": [
       "'stripe bat hang foot good'"
      ]
     },
     "execution_count": 5,
     "metadata": {},
     "output_type": "execute_result"
    }
   ],
   "source": [
    "sentence = \"The striped bats are hanging on their feet for best\"\n",
    "preprocess_text(sentence)"
   ]
  },
  {
   "cell_type": "code",
   "execution_count": 6,
   "metadata": {},
   "outputs": [
    {
     "data": {
      "application/vnd.jupyter.widget-view+json": {
       "model_id": "63d5d20977404372a3585735496afec3",
       "version_major": 2,
       "version_minor": 0
      },
      "text/plain": [
       "  0%|          | 0/159292 [00:00<?, ?it/s]"
      ]
     },
     "metadata": {},
     "output_type": "display_data"
    },
    {
     "data": {
      "text/html": [
       "<div>\n",
       "<style scoped>\n",
       "    .dataframe tbody tr th:only-of-type {\n",
       "        vertical-align: middle;\n",
       "    }\n",
       "\n",
       "    .dataframe tbody tr th {\n",
       "        vertical-align: top;\n",
       "    }\n",
       "\n",
       "    .dataframe thead th {\n",
       "        text-align: right;\n",
       "    }\n",
       "</style>\n",
       "<table border=\"1\" class=\"dataframe\">\n",
       "  <thead>\n",
       "    <tr style=\"text-align: right;\">\n",
       "      <th></th>\n",
       "      <th>text</th>\n",
       "      <th>processed_text</th>\n",
       "    </tr>\n",
       "  </thead>\n",
       "  <tbody>\n",
       "    <tr>\n",
       "      <th>0</th>\n",
       "      <td>Explanation\\nWhy the edits made under my usern...</td>\n",
       "      <td>explanation \\n edit username hardcore metallic...</td>\n",
       "    </tr>\n",
       "    <tr>\n",
       "      <th>1</th>\n",
       "      <td>D'aww! He matches this background colour I'm s...</td>\n",
       "      <td>daww match background colour m seemingly stuck...</td>\n",
       "    </tr>\n",
       "    <tr>\n",
       "      <th>2</th>\n",
       "      <td>Hey man, I'm really not trying to edit war. It...</td>\n",
       "      <td>hey man m try edit war guy constantly remove r...</td>\n",
       "    </tr>\n",
       "    <tr>\n",
       "      <th>3</th>\n",
       "      <td>\"\\nMore\\nI can't make any real suggestions on ...</td>\n",
       "      <td>\\n \\n not real suggestion improvement   wonder...</td>\n",
       "    </tr>\n",
       "    <tr>\n",
       "      <th>4</th>\n",
       "      <td>You, sir, are my hero. Any chance you remember...</td>\n",
       "      <td>sir hero chance remember page s</td>\n",
       "    </tr>\n",
       "  </tbody>\n",
       "</table>\n",
       "</div>"
      ],
      "text/plain": [
       "                                                text  \\\n",
       "0  Explanation\\nWhy the edits made under my usern...   \n",
       "1  D'aww! He matches this background colour I'm s...   \n",
       "2  Hey man, I'm really not trying to edit war. It...   \n",
       "3  \"\\nMore\\nI can't make any real suggestions on ...   \n",
       "4  You, sir, are my hero. Any chance you remember...   \n",
       "\n",
       "                                      processed_text  \n",
       "0  explanation \\n edit username hardcore metallic...  \n",
       "1  daww match background colour m seemingly stuck...  \n",
       "2  hey man m try edit war guy constantly remove r...  \n",
       "3  \\n \\n not real suggestion improvement   wonder...  \n",
       "4                    sir hero chance remember page s  "
      ]
     },
     "execution_count": 6,
     "metadata": {},
     "output_type": "execute_result"
    }
   ],
   "source": [
    "# Apply the preprocessing to the 'text' column\n",
    "tqdm.pandas()\n",
    "df['processed_text'] = df['text'].progress_apply(preprocess_text)\n",
    "\n",
    "df[['text', 'processed_text']].head()\n"
   ]
  },
  {
   "cell_type": "code",
   "execution_count": 7,
   "metadata": {},
   "outputs": [],
   "source": [
    "\n",
    "# Split the data into training and testing sets\n",
    "X_train, X_test, y_train, y_test = train_test_split(df['processed_text'], df['toxic'], test_size=0.20, random_state=42)\n"
   ]
  },
  {
   "cell_type": "markdown",
   "metadata": {},
   "source": [
    "## Обучение"
   ]
  },
  {
   "cell_type": "code",
   "execution_count": 8,
   "metadata": {},
   "outputs": [
    {
     "name": "stdout",
     "output_type": "stream",
     "text": [
      "Fitting 2 folds for each of 5 candidates, totalling 10 fits\n",
      "[CV 1/2; 1/5] START clf__C=1000.0...............................................\n",
      "[CV 1/2; 1/5] END .............................clf__C=1000.0; total time=  29.0s\n",
      "[CV 2/2; 1/5] START clf__C=1000.0...............................................\n",
      "[CV 2/2; 1/5] END .............................clf__C=1000.0; total time=  26.7s\n",
      "[CV 1/2; 2/5] START clf__C=100.0................................................\n",
      "[CV 1/2; 2/5] END ..............................clf__C=100.0; total time=  20.0s\n",
      "[CV 2/2; 2/5] START clf__C=100.0................................................\n",
      "[CV 2/2; 2/5] END ..............................clf__C=100.0; total time=  26.5s\n",
      "[CV 1/2; 3/5] START clf__C=10.0.................................................\n",
      "[CV 1/2; 3/5] END ...............................clf__C=10.0; total time=  12.9s\n",
      "[CV 2/2; 3/5] START clf__C=10.0.................................................\n",
      "[CV 2/2; 3/5] END ...............................clf__C=10.0; total time=  14.2s\n",
      "[CV 1/2; 4/5] START clf__C=1.0..................................................\n",
      "[CV 1/2; 4/5] END ................................clf__C=1.0; total time=  10.1s\n",
      "[CV 2/2; 4/5] START clf__C=1.0..................................................\n",
      "[CV 2/2; 4/5] END ................................clf__C=1.0; total time=   9.7s\n",
      "[CV 1/2; 5/5] START clf__C=0.1..................................................\n",
      "[CV 1/2; 5/5] END ................................clf__C=0.1; total time=   7.0s\n",
      "[CV 2/2; 5/5] START clf__C=0.1..................................................\n",
      "[CV 2/2; 5/5] END ................................clf__C=0.1; total time=   7.2s\n"
     ]
    },
    {
     "data": {
      "text/plain": [
       "({'clf__C': 10.0}, 0.7651707600369475)"
      ]
     },
     "execution_count": 8,
     "metadata": {},
     "output_type": "execute_result"
    }
   ],
   "source": [
    "\n",
    "# Define the model pipeline with a placeholder for the regularization parameter C\n",
    "model = Pipeline([\n",
    "    ('tfidf', TfidfVectorizer()),\n",
    "    ('clf', LogisticRegression(solver='liblinear')),\n",
    "])\n",
    "\n",
    "# Define the parameters for grid search\n",
    "# Note: C = 1/alpha, so we'll take reciprocals\n",
    "# https://stackoverflow.com/questions/67513075/what-is-c-parameter-in-sklearn-logistic-regression\n",
    "parameters = {\n",
    "    'clf__C': [1/0.001, 1/0.01, 1/0.1, 1/1.0, 1/10.0],\n",
    "}\n",
    "\n",
    "# Perform grid search\n",
    "grid_search = GridSearchCV(model, parameters, cv=2, scoring='f1', verbose=10)\n",
    "grid_search.fit(X_train, y_train)\n",
    "\n",
    "best_logreg = grid_search.best_estimator_\n",
    "grid_search.best_params_, grid_search.best_score_"
   ]
  },
  {
   "cell_type": "code",
   "execution_count": 9,
   "metadata": {},
   "outputs": [
    {
     "data": {
      "text/plain": [
       "({'clf__C': 10.0}, 0.7651707600369475)"
      ]
     },
     "execution_count": 9,
     "metadata": {},
     "output_type": "execute_result"
    }
   ],
   "source": [
    "grid_search.best_params_, grid_search.best_score_"
   ]
  },
  {
   "cell_type": "code",
   "execution_count": 10,
   "metadata": {
    "scrolled": false
   },
   "outputs": [
    {
     "name": "stdout",
     "output_type": "stream",
     "text": [
      "Fitting 2 folds for each of 8 candidates, totalling 16 fits\n",
      "[CV 1/2; 1/8] START boosting__learning_rate=0.1, boosting__max_depth=30, boosting__n_estimators=30, boosting__num_leaves=30, boosting__num_threads=4, boosting__random_state=42, tfidf__max_features=10000\n",
      "[LightGBM] [Warning] num_threads is set=4, n_jobs=-1 will be ignored. Current value: num_threads=4\n",
      "[CV 1/2; 1/8] END boosting__learning_rate=0.1, boosting__max_depth=30, boosting__n_estimators=30, boosting__num_leaves=30, boosting__num_threads=4, boosting__random_state=42, tfidf__max_features=10000; total time=  27.6s\n",
      "[CV 2/2; 1/8] START boosting__learning_rate=0.1, boosting__max_depth=30, boosting__n_estimators=30, boosting__num_leaves=30, boosting__num_threads=4, boosting__random_state=42, tfidf__max_features=10000\n",
      "[LightGBM] [Warning] num_threads is set=4, n_jobs=-1 will be ignored. Current value: num_threads=4\n",
      "[CV 2/2; 1/8] END boosting__learning_rate=0.1, boosting__max_depth=30, boosting__n_estimators=30, boosting__num_leaves=30, boosting__num_threads=4, boosting__random_state=42, tfidf__max_features=10000; total time=  27.9s\n",
      "[CV 1/2; 2/8] START boosting__learning_rate=0.1, boosting__max_depth=30, boosting__n_estimators=30, boosting__num_leaves=60, boosting__num_threads=4, boosting__random_state=42, tfidf__max_features=10000\n",
      "[LightGBM] [Warning] num_threads is set=4, n_jobs=-1 will be ignored. Current value: num_threads=4\n",
      "[CV 1/2; 2/8] END boosting__learning_rate=0.1, boosting__max_depth=30, boosting__n_estimators=30, boosting__num_leaves=60, boosting__num_threads=4, boosting__random_state=42, tfidf__max_features=10000; total time=  36.3s\n",
      "[CV 2/2; 2/8] START boosting__learning_rate=0.1, boosting__max_depth=30, boosting__n_estimators=30, boosting__num_leaves=60, boosting__num_threads=4, boosting__random_state=42, tfidf__max_features=10000\n",
      "[LightGBM] [Warning] num_threads is set=4, n_jobs=-1 will be ignored. Current value: num_threads=4\n",
      "[CV 2/2; 2/8] END boosting__learning_rate=0.1, boosting__max_depth=30, boosting__n_estimators=30, boosting__num_leaves=60, boosting__num_threads=4, boosting__random_state=42, tfidf__max_features=10000; total time=  36.1s\n",
      "[CV 1/2; 3/8] START boosting__learning_rate=0.1, boosting__max_depth=60, boosting__n_estimators=30, boosting__num_leaves=30, boosting__num_threads=4, boosting__random_state=42, tfidf__max_features=10000\n",
      "[LightGBM] [Warning] num_threads is set=4, n_jobs=-1 will be ignored. Current value: num_threads=4\n",
      "[CV 1/2; 3/8] END boosting__learning_rate=0.1, boosting__max_depth=60, boosting__n_estimators=30, boosting__num_leaves=30, boosting__num_threads=4, boosting__random_state=42, tfidf__max_features=10000; total time=  26.4s\n",
      "[CV 2/2; 3/8] START boosting__learning_rate=0.1, boosting__max_depth=60, boosting__n_estimators=30, boosting__num_leaves=30, boosting__num_threads=4, boosting__random_state=42, tfidf__max_features=10000\n",
      "[LightGBM] [Warning] num_threads is set=4, n_jobs=-1 will be ignored. Current value: num_threads=4\n",
      "[CV 2/2; 3/8] END boosting__learning_rate=0.1, boosting__max_depth=60, boosting__n_estimators=30, boosting__num_leaves=30, boosting__num_threads=4, boosting__random_state=42, tfidf__max_features=10000; total time=  32.2s\n",
      "[CV 1/2; 4/8] START boosting__learning_rate=0.1, boosting__max_depth=60, boosting__n_estimators=30, boosting__num_leaves=60, boosting__num_threads=4, boosting__random_state=42, tfidf__max_features=10000\n",
      "[LightGBM] [Warning] num_threads is set=4, n_jobs=-1 will be ignored. Current value: num_threads=4\n",
      "[CV 1/2; 4/8] END boosting__learning_rate=0.1, boosting__max_depth=60, boosting__n_estimators=30, boosting__num_leaves=60, boosting__num_threads=4, boosting__random_state=42, tfidf__max_features=10000; total time=  40.6s\n",
      "[CV 2/2; 4/8] START boosting__learning_rate=0.1, boosting__max_depth=60, boosting__n_estimators=30, boosting__num_leaves=60, boosting__num_threads=4, boosting__random_state=42, tfidf__max_features=10000\n",
      "[LightGBM] [Warning] num_threads is set=4, n_jobs=-1 will be ignored. Current value: num_threads=4\n",
      "[CV 2/2; 4/8] END boosting__learning_rate=0.1, boosting__max_depth=60, boosting__n_estimators=30, boosting__num_leaves=60, boosting__num_threads=4, boosting__random_state=42, tfidf__max_features=10000; total time=  40.5s\n",
      "[CV 1/2; 5/8] START boosting__learning_rate=0.5, boosting__max_depth=30, boosting__n_estimators=30, boosting__num_leaves=30, boosting__num_threads=4, boosting__random_state=42, tfidf__max_features=10000\n",
      "[LightGBM] [Warning] num_threads is set=4, n_jobs=-1 will be ignored. Current value: num_threads=4\n",
      "[CV 1/2; 5/8] END boosting__learning_rate=0.5, boosting__max_depth=30, boosting__n_estimators=30, boosting__num_leaves=30, boosting__num_threads=4, boosting__random_state=42, tfidf__max_features=10000; total time=  25.2s\n",
      "[CV 2/2; 5/8] START boosting__learning_rate=0.5, boosting__max_depth=30, boosting__n_estimators=30, boosting__num_leaves=30, boosting__num_threads=4, boosting__random_state=42, tfidf__max_features=10000\n",
      "[LightGBM] [Warning] num_threads is set=4, n_jobs=-1 will be ignored. Current value: num_threads=4\n",
      "[CV 2/2; 5/8] END boosting__learning_rate=0.5, boosting__max_depth=30, boosting__n_estimators=30, boosting__num_leaves=30, boosting__num_threads=4, boosting__random_state=42, tfidf__max_features=10000; total time=  25.5s\n",
      "[CV 1/2; 6/8] START boosting__learning_rate=0.5, boosting__max_depth=30, boosting__n_estimators=30, boosting__num_leaves=60, boosting__num_threads=4, boosting__random_state=42, tfidf__max_features=10000\n",
      "[LightGBM] [Warning] num_threads is set=4, n_jobs=-1 will be ignored. Current value: num_threads=4\n",
      "[CV 1/2; 6/8] END boosting__learning_rate=0.5, boosting__max_depth=30, boosting__n_estimators=30, boosting__num_leaves=60, boosting__num_threads=4, boosting__random_state=42, tfidf__max_features=10000; total time=  32.6s\n",
      "[CV 2/2; 6/8] START boosting__learning_rate=0.5, boosting__max_depth=30, boosting__n_estimators=30, boosting__num_leaves=60, boosting__num_threads=4, boosting__random_state=42, tfidf__max_features=10000\n",
      "[LightGBM] [Warning] num_threads is set=4, n_jobs=-1 will be ignored. Current value: num_threads=4\n",
      "[CV 2/2; 6/8] END boosting__learning_rate=0.5, boosting__max_depth=30, boosting__n_estimators=30, boosting__num_leaves=60, boosting__num_threads=4, boosting__random_state=42, tfidf__max_features=10000; total time=  32.9s\n",
      "[CV 1/2; 7/8] START boosting__learning_rate=0.5, boosting__max_depth=60, boosting__n_estimators=30, boosting__num_leaves=30, boosting__num_threads=4, boosting__random_state=42, tfidf__max_features=10000\n",
      "[LightGBM] [Warning] num_threads is set=4, n_jobs=-1 will be ignored. Current value: num_threads=4\n",
      "[CV 1/2; 7/8] END boosting__learning_rate=0.5, boosting__max_depth=60, boosting__n_estimators=30, boosting__num_leaves=30, boosting__num_threads=4, boosting__random_state=42, tfidf__max_features=10000; total time=  29.3s\n",
      "[CV 2/2; 7/8] START boosting__learning_rate=0.5, boosting__max_depth=60, boosting__n_estimators=30, boosting__num_leaves=30, boosting__num_threads=4, boosting__random_state=42, tfidf__max_features=10000\n",
      "[LightGBM] [Warning] num_threads is set=4, n_jobs=-1 will be ignored. Current value: num_threads=4\n",
      "[CV 2/2; 7/8] END boosting__learning_rate=0.5, boosting__max_depth=60, boosting__n_estimators=30, boosting__num_leaves=30, boosting__num_threads=4, boosting__random_state=42, tfidf__max_features=10000; total time=  26.9s\n",
      "[CV 1/2; 8/8] START boosting__learning_rate=0.5, boosting__max_depth=60, boosting__n_estimators=30, boosting__num_leaves=60, boosting__num_threads=4, boosting__random_state=42, tfidf__max_features=10000\n",
      "[LightGBM] [Warning] num_threads is set=4, n_jobs=-1 will be ignored. Current value: num_threads=4\n",
      "[CV 1/2; 8/8] END boosting__learning_rate=0.5, boosting__max_depth=60, boosting__n_estimators=30, boosting__num_leaves=60, boosting__num_threads=4, boosting__random_state=42, tfidf__max_features=10000; total time=  34.9s\n",
      "[CV 2/2; 8/8] START boosting__learning_rate=0.5, boosting__max_depth=60, boosting__n_estimators=30, boosting__num_leaves=60, boosting__num_threads=4, boosting__random_state=42, tfidf__max_features=10000\n",
      "[LightGBM] [Warning] num_threads is set=4, n_jobs=-1 will be ignored. Current value: num_threads=4\n",
      "[CV 2/2; 8/8] END boosting__learning_rate=0.5, boosting__max_depth=60, boosting__n_estimators=30, boosting__num_leaves=60, boosting__num_threads=4, boosting__random_state=42, tfidf__max_features=10000; total time=  35.2s\n",
      "[LightGBM] [Warning] num_threads is set=4, n_jobs=-1 will be ignored. Current value: num_threads=4\n"
     ]
    },
    {
     "data": {
      "text/plain": [
       "({'boosting__learning_rate': 0.5,\n",
       "  'boosting__max_depth': 60,\n",
       "  'boosting__n_estimators': 30,\n",
       "  'boosting__num_leaves': 60,\n",
       "  'boosting__num_threads': 4,\n",
       "  'boosting__random_state': 42,\n",
       "  'tfidf__max_features': 10000},\n",
       " 0.7572480326668095)"
      ]
     },
     "execution_count": 10,
     "metadata": {},
     "output_type": "execute_result"
    }
   ],
   "source": [
    "# Create a GradientBoostingClassifier instance\n",
    "model = Pipeline([\n",
    "    ('tfidf', TfidfVectorizer()),\n",
    "    ('boosting', lgb.LGBMClassifier())\n",
    "])\n",
    "\n",
    "# Define the parameter grid for GridSearchCV\n",
    "parameters = {\n",
    "    'tfidf__max_features': [10_000],\n",
    "    'boosting__n_estimators': [30],\n",
    "    'boosting__learning_rate': [0.10, 0.50],\n",
    "    'boosting__max_depth': [30, 60],\n",
    "    'boosting__num_leaves': [30, 60],\n",
    "    'boosting__random_state': [42],\n",
    "    'boosting__num_threads': [4],\n",
    "}\n",
    "\n",
    "# Create GridSearchCV instance\n",
    "grid_search = GridSearchCV(model, parameters, cv=2, scoring='f1', verbose=10)\n",
    "\n",
    "# Train the model with GridSearchCV\n",
    "grid_search.fit(X_train, y_train)\n",
    "\n",
    "# Get the best parameters and score\n",
    "best_boost = grid_search.best_estimator_\n",
    "grid_search.best_params_, grid_search.best_score_"
   ]
  },
  {
   "cell_type": "code",
   "execution_count": 11,
   "metadata": {
    "scrolled": true
   },
   "outputs": [
    {
     "data": {
      "text/plain": [
       "({'boosting__learning_rate': 0.5,\n",
       "  'boosting__max_depth': 60,\n",
       "  'boosting__n_estimators': 30,\n",
       "  'boosting__num_leaves': 60,\n",
       "  'boosting__num_threads': 4,\n",
       "  'boosting__random_state': 42,\n",
       "  'tfidf__max_features': 10000},\n",
       " 0.7572480326668095)"
      ]
     },
     "execution_count": 11,
     "metadata": {},
     "output_type": "execute_result"
    }
   ],
   "source": [
    "grid_search.best_params_, grid_search.best_score_"
   ]
  },
  {
   "cell_type": "code",
   "execution_count": 12,
   "metadata": {},
   "outputs": [],
   "source": [
    "best_model = best_logreg"
   ]
  },
  {
   "cell_type": "code",
   "execution_count": 13,
   "metadata": {},
   "outputs": [
    {
     "data": {
      "text/plain": [
       "0.7810423224903813"
      ]
     },
     "execution_count": 13,
     "metadata": {},
     "output_type": "execute_result"
    }
   ],
   "source": [
    "y_pred = best_model.predict(X_test)\n",
    "f1 = f1_score(y_test, y_pred)\n",
    "f1"
   ]
  },
  {
   "cell_type": "markdown",
   "metadata": {},
   "source": [
    "## Выводы"
   ]
  },
  {
   "cell_type": "markdown",
   "metadata": {},
   "source": [
    "Логистическая регрессия на TFIDF сработала достаточно хорошо - удовлетворяет требованиям заказчика."
   ]
  }
 ],
 "metadata": {
  "ExecuteTimeLog": [
   {
    "duration": 53,
    "start_time": "2023-07-17T11:27:18.675Z"
   },
   {
    "duration": 429,
    "start_time": "2023-07-17T11:27:20.415Z"
   },
   {
    "duration": 104,
    "start_time": "2023-07-17T11:27:20.847Z"
   },
   {
    "duration": 468,
    "start_time": "2023-07-17T11:27:33.460Z"
   },
   {
    "duration": 3,
    "start_time": "2023-07-17T11:28:24.352Z"
   },
   {
    "duration": 9,
    "start_time": "2023-07-17T11:28:39.356Z"
   },
   {
    "duration": 414,
    "start_time": "2023-07-17T11:29:16.165Z"
   },
   {
    "duration": 520,
    "start_time": "2023-07-17T11:29:21.670Z"
   },
   {
    "duration": 424,
    "start_time": "2023-07-17T11:29:29.870Z"
   },
   {
    "duration": 807,
    "start_time": "2023-07-17T11:29:36.926Z"
   },
   {
    "duration": 428,
    "start_time": "2023-07-17T11:31:15.607Z"
   },
   {
    "duration": 434,
    "start_time": "2023-07-17T11:31:25.682Z"
   },
   {
    "duration": 443,
    "start_time": "2023-07-17T11:31:34.724Z"
   },
   {
    "duration": 1890,
    "start_time": "2023-07-17T11:32:00.464Z"
   },
   {
    "duration": 1428,
    "start_time": "2023-07-17T11:32:19.751Z"
   },
   {
    "duration": 486,
    "start_time": "2023-07-17T11:33:52.956Z"
   },
   {
    "duration": 1810,
    "start_time": "2023-07-17T11:33:53.444Z"
   },
   {
    "duration": 1256,
    "start_time": "2023-07-17T11:33:55.256Z"
   },
   {
    "duration": 73354,
    "start_time": "2023-07-17T11:33:56.517Z"
   },
   {
    "duration": 42,
    "start_time": "2023-07-17T11:35:21.652Z"
   },
   {
    "duration": 227409,
    "start_time": "2023-07-17T11:35:25.987Z"
   },
   {
    "duration": 144,
    "start_time": "2023-07-17T11:39:13.398Z"
   },
   {
    "duration": 0,
    "start_time": "2023-07-17T11:39:13.543Z"
   },
   {
    "duration": 1435619,
    "start_time": "2023-07-17T11:40:04.918Z"
   },
   {
    "duration": 0,
    "start_time": "2023-07-17T12:04:00.540Z"
   },
   {
    "duration": 423,
    "start_time": "2023-07-17T12:04:40.339Z"
   },
   {
    "duration": 2275,
    "start_time": "2023-07-17T12:04:40.764Z"
   },
   {
    "duration": 1245,
    "start_time": "2023-07-17T12:04:43.041Z"
   },
   {
    "duration": 23522,
    "start_time": "2023-07-17T12:04:45.713Z"
   },
   {
    "duration": 0,
    "start_time": "2023-07-17T12:05:09.237Z"
   },
   {
    "duration": 3,
    "start_time": "2023-07-17T12:05:52.889Z"
   },
   {
    "duration": 2767,
    "start_time": "2023-07-17T12:05:53.063Z"
   },
   {
    "duration": 7,
    "start_time": "2023-07-17T12:05:55.833Z"
   },
   {
    "duration": 76445,
    "start_time": "2023-07-17T12:05:55.843Z"
   },
   {
    "duration": 39,
    "start_time": "2023-07-17T12:07:12.290Z"
   },
   {
    "duration": 6,
    "start_time": "2023-07-17T12:07:12.330Z"
   },
   {
    "duration": 4,
    "start_time": "2023-07-17T12:09:11.304Z"
   },
   {
    "duration": 4,
    "start_time": "2023-07-17T12:09:42.927Z"
   },
   {
    "duration": 7,
    "start_time": "2023-07-17T12:09:54.171Z"
   },
   {
    "duration": 5305,
    "start_time": "2023-07-17T12:11:04.663Z"
   },
   {
    "duration": 35,
    "start_time": "2023-07-17T12:11:16.243Z"
   },
   {
    "duration": 5386,
    "start_time": "2023-07-17T12:11:16.399Z"
   },
   {
    "duration": 39,
    "start_time": "2023-07-17T12:14:27.883Z"
   },
   {
    "duration": 22,
    "start_time": "2023-07-17T12:14:28.063Z"
   },
   {
    "duration": 21,
    "start_time": "2023-07-17T12:14:43.074Z"
   },
   {
    "duration": 38,
    "start_time": "2023-07-17T12:14:51.594Z"
   },
   {
    "duration": 52,
    "start_time": "2023-07-17T12:15:00.403Z"
   },
   {
    "duration": 7,
    "start_time": "2023-07-17T12:15:03.050Z"
   },
   {
    "duration": 23,
    "start_time": "2023-07-17T12:15:11.473Z"
   },
   {
    "duration": 6,
    "start_time": "2023-07-17T12:15:18.456Z"
   },
   {
    "duration": 6,
    "start_time": "2023-07-17T12:15:21.420Z"
   },
   {
    "duration": 20,
    "start_time": "2023-07-17T12:16:10.884Z"
   },
   {
    "duration": 55,
    "start_time": "2023-07-17T12:16:13.025Z"
   },
   {
    "duration": 21,
    "start_time": "2023-07-17T12:16:13.173Z"
   },
   {
    "duration": 18,
    "start_time": "2023-07-17T12:16:19.179Z"
   },
   {
    "duration": 26867,
    "start_time": "2023-07-17T12:16:28.817Z"
   },
   {
    "duration": 29582,
    "start_time": "2023-07-17T12:17:29.401Z"
   },
   {
    "duration": 406433,
    "start_time": "2023-07-17T12:18:39.896Z"
   },
   {
    "duration": 586864,
    "start_time": "2023-07-17T12:28:06.216Z"
   },
   {
    "duration": 14776,
    "start_time": "2023-07-17T12:40:43.696Z"
   },
   {
    "duration": 11936,
    "start_time": "2023-07-17T12:41:00.062Z"
   },
   {
    "duration": 5783,
    "start_time": "2023-07-17T12:41:15.095Z"
   },
   {
    "duration": 94669,
    "start_time": "2023-07-17T12:42:07.685Z"
   },
   {
    "duration": 2461,
    "start_time": "2023-07-17T12:44:24.154Z"
   },
   {
    "duration": 7869,
    "start_time": "2023-07-17T12:44:33.321Z"
   },
   {
    "duration": 14385,
    "start_time": "2023-07-17T12:44:45.954Z"
   },
   {
    "duration": 114,
    "start_time": "2023-07-17T12:51:14.279Z"
   },
   {
    "duration": 36,
    "start_time": "2023-07-17T12:51:19.405Z"
   },
   {
    "duration": 38,
    "start_time": "2023-07-17T12:53:43.611Z"
   },
   {
    "duration": 76645,
    "start_time": "2023-07-17T12:54:25.916Z"
   },
   {
    "duration": 5,
    "start_time": "2023-07-17T12:56:03.290Z"
   },
   {
    "duration": 5,
    "start_time": "2023-07-17T12:56:31.871Z"
   },
   {
    "duration": 115804,
    "start_time": "2023-07-17T12:57:36.750Z"
   },
   {
    "duration": 5,
    "start_time": "2023-07-17T12:59:32.557Z"
   },
   {
    "duration": 25,
    "start_time": "2023-07-17T13:00:31.071Z"
   },
   {
    "duration": 1663663,
    "start_time": "2023-07-17T13:01:11.678Z"
   },
   {
    "duration": 4,
    "start_time": "2023-07-17T13:28:55.344Z"
   },
   {
    "duration": 10,
    "start_time": "2023-07-17T13:37:19.890Z"
   },
   {
    "duration": 10,
    "start_time": "2023-07-17T13:37:25.208Z"
   },
   {
    "duration": 12,
    "start_time": "2023-07-17T13:37:38.473Z"
   },
   {
    "duration": 8,
    "start_time": "2023-07-17T13:37:43.016Z"
   },
   {
    "duration": 2558652,
    "start_time": "2023-07-17T13:38:23.478Z"
   },
   {
    "duration": 124,
    "start_time": "2023-07-17T15:10:43.657Z"
   },
   {
    "duration": 138667,
    "start_time": "2023-07-17T15:10:51.165Z"
   },
   {
    "duration": 27166,
    "start_time": "2023-07-17T15:49:25.881Z"
   },
   {
    "duration": 44179,
    "start_time": "2023-07-17T15:50:02.906Z"
   },
   {
    "duration": 16770,
    "start_time": "2023-07-17T15:54:25.047Z"
   },
   {
    "duration": 17245,
    "start_time": "2023-07-17T15:57:45.201Z"
   },
   {
    "duration": 45951,
    "start_time": "2023-07-17T15:58:09.400Z"
   },
   {
    "duration": 92287,
    "start_time": "2023-07-17T15:59:03.877Z"
   },
   {
    "duration": 112212,
    "start_time": "2023-07-17T16:00:58.525Z"
   },
   {
    "duration": 261976,
    "start_time": "2023-07-17T16:03:03.012Z"
   },
   {
    "duration": 7392,
    "start_time": "2023-07-17T16:07:31.890Z"
   },
   {
    "duration": 3712,
    "start_time": "2023-07-17T16:08:02.381Z"
   },
   {
    "duration": 8907,
    "start_time": "2023-07-17T16:08:10.977Z"
   },
   {
    "duration": 11441,
    "start_time": "2023-07-17T16:09:20.766Z"
   },
   {
    "duration": 5193,
    "start_time": "2023-07-17T16:09:44.190Z"
   },
   {
    "duration": 5420,
    "start_time": "2023-07-17T16:09:56.984Z"
   },
   {
    "duration": 5525,
    "start_time": "2023-07-17T16:10:10.968Z"
   },
   {
    "duration": 6111,
    "start_time": "2023-07-17T16:10:29.365Z"
   },
   {
    "duration": 5941,
    "start_time": "2023-07-17T16:10:41.751Z"
   },
   {
    "duration": 2562,
    "start_time": "2023-07-17T16:10:57.624Z"
   },
   {
    "duration": 3276,
    "start_time": "2023-07-17T16:11:13.897Z"
   },
   {
    "duration": 3201,
    "start_time": "2023-07-17T16:11:23.086Z"
   },
   {
    "duration": 3120,
    "start_time": "2023-07-17T16:11:31.465Z"
   },
   {
    "duration": 2999,
    "start_time": "2023-07-17T16:11:40.884Z"
   },
   {
    "duration": 3136,
    "start_time": "2023-07-17T16:11:49.087Z"
   },
   {
    "duration": 2947,
    "start_time": "2023-07-17T16:11:58.753Z"
   },
   {
    "duration": 3073,
    "start_time": "2023-07-17T16:12:07.601Z"
   },
   {
    "duration": 3998,
    "start_time": "2023-07-17T16:12:18.298Z"
   },
   {
    "duration": 11584,
    "start_time": "2023-07-17T16:12:30.203Z"
   },
   {
    "duration": 3014,
    "start_time": "2023-07-17T16:12:54.469Z"
   },
   {
    "duration": 2955,
    "start_time": "2023-07-17T16:13:04.553Z"
   },
   {
    "duration": 3075,
    "start_time": "2023-07-17T16:13:20.505Z"
   },
   {
    "duration": 3012,
    "start_time": "2023-07-17T16:13:38.601Z"
   },
   {
    "duration": 27946,
    "start_time": "2023-07-17T16:13:57.862Z"
   },
   {
    "duration": 19,
    "start_time": "2023-07-17T16:15:14.657Z"
   },
   {
    "duration": 12,
    "start_time": "2023-07-17T16:15:29.286Z"
   },
   {
    "duration": 121,
    "start_time": "2023-07-17T16:15:42.314Z"
   },
   {
    "duration": 4,
    "start_time": "2023-07-17T16:15:43.614Z"
   },
   {
    "duration": 41,
    "start_time": "2023-07-17T16:19:44.720Z"
   },
   {
    "duration": 14,
    "start_time": "2023-07-17T16:20:15.953Z"
   },
   {
    "duration": 20,
    "start_time": "2023-07-17T16:20:57.305Z"
   },
   {
    "duration": 19,
    "start_time": "2023-07-17T16:21:05.216Z"
   },
   {
    "duration": 22,
    "start_time": "2023-07-17T16:21:23.253Z"
   },
   {
    "duration": 29,
    "start_time": "2023-07-17T16:22:01.869Z"
   },
   {
    "duration": 26,
    "start_time": "2023-07-17T16:22:48.123Z"
   },
   {
    "duration": 539,
    "start_time": "2023-07-17T16:22:52.410Z"
   },
   {
    "duration": 74,
    "start_time": "2023-07-17T16:23:05.727Z"
   },
   {
    "duration": 6474,
    "start_time": "2023-07-17T16:23:16.726Z"
   },
   {
    "duration": 25825,
    "start_time": "2023-07-17T16:23:41.685Z"
   },
   {
    "duration": 26799,
    "start_time": "2023-07-17T16:25:57.205Z"
   },
   {
    "duration": 2971,
    "start_time": "2023-07-17T16:26:42.400Z"
   },
   {
    "duration": 3011,
    "start_time": "2023-07-17T16:26:52.705Z"
   },
   {
    "duration": 3150,
    "start_time": "2023-07-17T16:27:02.046Z"
   },
   {
    "duration": 3049,
    "start_time": "2023-07-17T16:27:08.857Z"
   },
   {
    "duration": 2896,
    "start_time": "2023-07-17T16:27:15.677Z"
   },
   {
    "duration": 3004,
    "start_time": "2023-07-17T16:27:24.785Z"
   },
   {
    "duration": 2630,
    "start_time": "2023-07-17T16:27:34.848Z"
   },
   {
    "duration": 2689,
    "start_time": "2023-07-17T16:28:16.597Z"
   },
   {
    "duration": 22848,
    "start_time": "2023-07-17T16:28:29.668Z"
   },
   {
    "duration": 28068,
    "start_time": "2023-07-17T16:29:06.824Z"
   },
   {
    "duration": 28041,
    "start_time": "2023-07-17T16:29:42.048Z"
   },
   {
    "duration": 34390,
    "start_time": "2023-07-17T16:30:24.007Z"
   },
   {
    "duration": 25191,
    "start_time": "2023-07-17T16:31:08.421Z"
   },
   {
    "duration": 38829,
    "start_time": "2023-07-17T16:31:40.169Z"
   },
   {
    "duration": 44998,
    "start_time": "2023-07-17T16:32:25.784Z"
   },
   {
    "duration": 42581,
    "start_time": "2023-07-17T16:37:07.815Z"
   },
   {
    "duration": 45933,
    "start_time": "2023-07-17T16:37:55.160Z"
   },
   {
    "duration": 39228,
    "start_time": "2023-07-17T16:41:12.859Z"
   },
   {
    "duration": 42380,
    "start_time": "2023-07-17T16:41:55.488Z"
   },
   {
    "duration": 45333,
    "start_time": "2023-07-17T16:43:11.151Z"
   },
   {
    "duration": 53725,
    "start_time": "2023-07-17T16:43:59.364Z"
   },
   {
    "duration": 45548,
    "start_time": "2023-07-17T16:45:00.755Z"
   },
   {
    "duration": 5,
    "start_time": "2023-07-17T16:48:28.217Z"
   },
   {
    "duration": 4,
    "start_time": "2023-07-17T16:48:32.626Z"
   },
   {
    "duration": 65,
    "start_time": "2023-07-17T16:54:38.492Z"
   },
   {
    "duration": 1587615,
    "start_time": "2023-07-17T16:55:08.356Z"
   },
   {
    "duration": 33308,
    "start_time": "2023-07-17T17:23:32.907Z"
   },
   {
    "duration": 40988,
    "start_time": "2023-07-17T17:27:37.199Z"
   },
   {
    "duration": 7935,
    "start_time": "2023-07-17T17:42:27.154Z"
   },
   {
    "duration": 106729,
    "start_time": "2023-07-17T17:42:43.256Z"
   },
   {
    "duration": 44701,
    "start_time": "2023-07-17T17:47:19.094Z"
   },
   {
    "duration": 57205,
    "start_time": "2023-07-17T17:49:15.873Z"
   },
   {
    "duration": 70810,
    "start_time": "2023-07-17T17:50:54.582Z"
   },
   {
    "duration": 26781,
    "start_time": "2023-07-17T17:53:43.917Z"
   },
   {
    "duration": 2228251,
    "start_time": "2023-07-17T17:54:18.657Z"
   },
   {
    "duration": 5,
    "start_time": "2023-07-17T18:38:13.196Z"
   },
   {
    "duration": 3,
    "start_time": "2023-07-17T18:39:00.820Z"
   },
   {
    "duration": 1166,
    "start_time": "2023-07-17T18:39:00.939Z"
   },
   {
    "duration": 55438,
    "start_time": "2023-07-17T18:40:57.283Z"
   },
   {
    "duration": 1601,
    "start_time": "2023-07-17T18:44:25.482Z"
   },
   {
    "duration": 2262,
    "start_time": "2023-07-17T18:44:27.085Z"
   },
   {
    "duration": 538,
    "start_time": "2023-07-17T18:44:29.349Z"
   },
   {
    "duration": 76846,
    "start_time": "2023-07-17T18:44:50.094Z"
   },
   {
    "duration": 58,
    "start_time": "2023-07-17T18:46:06.943Z"
   },
   {
    "duration": 144,
    "start_time": "2023-07-17T18:46:07.003Z"
   },
   {
    "duration": 2509,
    "start_time": "2023-07-17T18:46:18.359Z"
   },
   {
    "duration": 2336,
    "start_time": "2023-07-17T18:47:10.534Z"
   },
   {
    "duration": 3203,
    "start_time": "2023-07-17T18:47:37.774Z"
   },
   {
    "duration": 3993,
    "start_time": "2023-07-17T18:47:58.584Z"
   },
   {
    "duration": 25156,
    "start_time": "2023-07-17T18:48:13.335Z"
   },
   {
    "duration": 5,
    "start_time": "2023-07-17T18:48:56.630Z"
   },
   {
    "duration": 3,
    "start_time": "2023-07-17T18:49:59.731Z"
   },
   {
    "duration": 4552,
    "start_time": "2023-07-17T18:49:59.870Z"
   },
   {
    "duration": 36,
    "start_time": "2023-07-17T18:50:37.834Z"
   },
   {
    "duration": 202734,
    "start_time": "2023-07-17T18:51:02.677Z"
   },
   {
    "duration": 5,
    "start_time": "2023-07-17T18:54:25.413Z"
   },
   {
    "duration": 6,
    "start_time": "2023-07-17T18:54:25.420Z"
   },
   {
    "duration": 1046,
    "start_time": "2023-07-17T18:54:25.429Z"
   },
   {
    "duration": 1586,
    "start_time": "2023-07-17T18:57:20.042Z"
   },
   {
    "duration": 2763,
    "start_time": "2023-07-17T18:57:21.630Z"
   },
   {
    "duration": 316,
    "start_time": "2023-07-17T18:57:24.395Z"
   },
   {
    "duration": 76309,
    "start_time": "2023-07-17T18:57:24.712Z"
   },
   {
    "duration": 54,
    "start_time": "2023-07-17T18:58:41.024Z"
   },
   {
    "duration": 14289,
    "start_time": "2023-07-17T18:58:41.080Z"
   },
   {
    "duration": 7,
    "start_time": "2023-07-17T18:58:55.371Z"
   },
   {
    "duration": 11115,
    "start_time": "2023-07-17T18:58:55.382Z"
   },
   {
    "duration": 7,
    "start_time": "2023-07-17T18:59:06.500Z"
   },
   {
    "duration": 66,
    "start_time": "2023-07-17T18:59:06.509Z"
   },
   {
    "duration": 4372,
    "start_time": "2023-07-17T18:59:06.577Z"
   },
   {
    "duration": 1660,
    "start_time": "2023-07-17T19:00:18.306Z"
   },
   {
    "duration": 2306,
    "start_time": "2023-07-17T19:00:19.968Z"
   },
   {
    "duration": 296,
    "start_time": "2023-07-17T19:00:22.280Z"
   },
   {
    "duration": 75137,
    "start_time": "2023-07-17T19:00:22.578Z"
   },
   {
    "duration": 36,
    "start_time": "2023-07-17T19:01:37.718Z"
   },
   {
    "duration": 195736,
    "start_time": "2023-07-17T19:01:37.767Z"
   },
   {
    "duration": 5,
    "start_time": "2023-07-17T19:04:53.505Z"
   },
   {
    "duration": 790830,
    "start_time": "2023-07-17T19:04:53.512Z"
   },
   {
    "duration": 5,
    "start_time": "2023-07-17T19:18:04.367Z"
   },
   {
    "duration": 27,
    "start_time": "2023-07-17T19:18:04.373Z"
   },
   {
    "duration": 1079,
    "start_time": "2023-07-17T19:18:04.402Z"
   },
   {
    "duration": 2832,
    "start_time": "2023-07-17T20:56:24.148Z"
   },
   {
    "duration": 2046,
    "start_time": "2023-07-17T20:56:26.982Z"
   },
   {
    "duration": 696,
    "start_time": "2023-07-17T20:56:29.030Z"
   },
   {
    "duration": 478,
    "start_time": "2023-07-17T20:57:06.555Z"
   },
   {
    "duration": 16,
    "start_time": "2023-07-17T20:57:22.947Z"
   },
   {
    "duration": 89099,
    "start_time": "2023-07-17T21:00:17.589Z"
   },
   {
    "duration": 4499,
    "start_time": "2023-07-17T21:01:52.306Z"
   },
   {
    "duration": 1950,
    "start_time": "2023-07-17T21:01:56.808Z"
   },
   {
    "duration": 788,
    "start_time": "2023-07-17T21:01:58.760Z"
   },
   {
    "duration": 509,
    "start_time": "2023-07-17T21:02:03.953Z"
   },
   {
    "duration": 15,
    "start_time": "2023-07-17T21:02:06.730Z"
   },
   {
    "duration": 35408,
    "start_time": "2023-07-17T21:02:27.880Z"
   },
   {
    "duration": 3900,
    "start_time": "2023-07-17T21:03:19.413Z"
   },
   {
    "duration": 4682,
    "start_time": "2023-07-17T21:03:27.485Z"
   },
   {
    "duration": 1773,
    "start_time": "2023-07-17T21:03:32.169Z"
   },
   {
    "duration": 846,
    "start_time": "2023-07-17T21:03:33.944Z"
   },
   {
    "duration": 505,
    "start_time": "2023-07-17T21:03:34.793Z"
   },
   {
    "duration": 14,
    "start_time": "2023-07-17T21:03:35.301Z"
   },
   {
    "duration": 2687630,
    "start_time": "2023-07-17T21:03:35.317Z"
   },
   {
    "duration": 41,
    "start_time": "2023-07-17T21:48:22.949Z"
   },
   {
    "duration": 183306,
    "start_time": "2023-07-17T21:48:22.992Z"
   },
   {
    "duration": 4,
    "start_time": "2023-07-17T21:51:26.300Z"
   },
   {
    "duration": 593180,
    "start_time": "2023-07-17T21:51:26.306Z"
   },
   {
    "duration": 5,
    "start_time": "2023-07-17T22:01:19.488Z"
   },
   {
    "duration": 8,
    "start_time": "2023-07-17T22:01:19.495Z"
   },
   {
    "duration": 946,
    "start_time": "2023-07-17T22:01:19.506Z"
   }
  ],
  "kernelspec": {
   "display_name": "Python 3",
   "language": "python",
   "name": "python3"
  },
  "language_info": {
   "codemirror_mode": {
    "name": "ipython",
    "version": 3
   },
   "file_extension": ".py",
   "mimetype": "text/x-python",
   "name": "python",
   "nbconvert_exporter": "python",
   "pygments_lexer": "ipython3",
   "version": "3.6.5"
  },
  "toc": {
   "base_numbering": 1,
   "nav_menu": {},
   "number_sections": true,
   "sideBar": true,
   "skip_h1_title": true,
   "title_cell": "Содержание",
   "title_sidebar": "Contents",
   "toc_cell": true,
   "toc_position": {
    "height": "calc(100% - 180px)",
    "left": "10px",
    "top": "150px",
    "width": "302.391px"
   },
   "toc_section_display": true,
   "toc_window_display": false
  }
 },
 "nbformat": 4,
 "nbformat_minor": 2
}
